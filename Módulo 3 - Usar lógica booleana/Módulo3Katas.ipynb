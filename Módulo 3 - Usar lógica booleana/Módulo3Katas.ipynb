{
 "cells": [
  {
   "cell_type": "markdown",
   "metadata": {},
   "source": [
    "## Ejercicio - Escribir declaraciones if, else, y elif\n",
    "Para este ejercicio, escribirás una lógica condicional que imprima una advertencia si un asteroide se acerca a la Tierra demasiado rápido. La velocidad del asteroide varía dependiendo de lo cerca que esté del sol, y cualquier velocidad superior a 25 kilómetros por segundo (km/s) merece una advertencia. \n",
    "\n",
    "Un asteroide se acerca, y viaja a una velocidad de 49 km/s."
   ]
  },
  {
   "cell_type": "code",
   "execution_count": 14,
   "metadata": {},
   "outputs": [
    {
     "name": "stdout",
     "output_type": "stream",
     "text": [
      "¡Peligro!\n",
      "Asteroide aproximandose a gran velocidad.\n"
     ]
    }
   ],
   "source": [
    "asteroide = 49\n",
    "if asteroide > 25:\n",
    "    print(\"¡Peligro!\\nAsteroide aproximandose a gran velocidad.\")\n",
    "else:\n",
    "    print(\"La Tierra esta segura\")"
   ]
  },
  {
   "cell_type": "markdown",
   "metadata": {},
   "source": [
    "Si un asteroide entra en la atmósfera de la Tierra a una velocidad mayor o igual a 20 km/s, a veces produce un rayo de luz que se puede ver desde la Tierra. Escribe la lógica condicional que usa declaraciones `if`, `else`, y `elif` para alertar a las personas de todo el mundo que deben buscar un asteroide en el cielo. ¡Hay uno que se dirige a la tierra ahora a una velocidad de 19 km/s!"
   ]
  },
  {
   "cell_type": "code",
   "execution_count": 15,
   "metadata": {},
   "outputs": [
    {
     "name": "stdout",
     "output_type": "stream",
     "text": [
      "No hay novedades\n"
     ]
    }
   ],
   "source": [
    "asteroide = 19\n",
    "if asteroide > 25:\n",
    "    print(\"¡Peligro!\\nAsteroide aproximandose a gran velocidad.\")\n",
    "elif asteroide >= 20:\n",
    "    print(\"¡Atención!\\nProdrás ver un asteroide en el cielo\")\n",
    "else:\n",
    "    print(\"No hay novedades\")"
   ]
  },
  {
   "cell_type": "markdown",
   "metadata": {},
   "source": [
    "## Ejercicio: Uso de operadores `and` y `or`\n",
    "En el ejercicio anterior, trabajó con sentencias `if`, `else`, y `elif` para escribir programas con lógica condicional compleja. Para crear expresiones booleanas aún más interesantes, puede usar los operadores `and` y `or` en Python.\n",
    "\n",
    "-Las expresiones `and` son sólo si ambas subexpresiones son verdaderas.\n",
    "\n",
    "-Las expresiones `or` son True si al menos una subexpresión es verdadera.\n",
    "\n",
    "\n",
    "Aquí está la nueva información que necesitas saber:\n",
    "\n",
    "*Los asteroides de menos de 25 metros en su dimensión más grande probablemente se quemarán a medida que entren en la atmósfera de la Tierra.\n",
    "\n",
    "*Si una pieza de un asteroide que es más grande que 25 metros pero más pequeña que 1000 metros golpeara la Tierra, causaría mucho daño.\n",
    "\n",
    "*La velocidad del asteroide varía en función de lo cerca que esté del sol, y cualquier velocidad superior a 25 kilómetros por segundo (km/s) merece una advertencia.\n",
    "\n",
    "*Si un asteroide entra en la atmósfera de la Tierra a una velocidad mayor o igual a 20 km/s, a veces produce un rayo de luz que se puede ver desde la Tierra.\n",
    "\n",
    "Usando toda esta información, escribe un programa que emita la advertencia o información correcta a la gente de la Tierra, según la velocidad y el tamaño de un asteroide. Utiliza instrucciones `if`, `else`, y `elif`, así como los operadores `and` y `or`."
   ]
  },
  {
   "cell_type": "code",
   "execution_count": 25,
   "metadata": {},
   "outputs": [
    {
     "name": "stdout",
     "output_type": "stream",
     "text": [
      "¡Atención!\n",
      "Prodrás ver un asteroide en el cielo\n"
     ]
    }
   ],
   "source": [
    "velocidadAsteroide = 25\n",
    "tamañoAsteroide = 10\n",
    "if tamañoAsteroide > 25 or velocidadAsteroide >= 20:\n",
    "    if tamañoAsteroide > 25 and tamañoAsteroide < 1000:\n",
    "        print(\"¡Precaución!\\n Se áproxima un asteroide que causará mucho daño a la Tierra\")\n",
    "    elif velocidadAsteroide > 25:\n",
    "        print(\"¡Peligro!\\nAsteroide aproximandose a gran velocidad.\")\n",
    "    else:\n",
    "        print(\"¡Atención!\\nProdrás ver un asteroide en el cielo\")\n",
    "else:\n",
    "    print(\"No hay nuevas alertas\")"
   ]
  }
 ],
 "metadata": {
  "interpreter": {
   "hash": "b069f978c5ce059f6869a2c5334aa6982e919d27e13fd902c7b006aa1c2cad85"
  },
  "kernelspec": {
   "display_name": "Python 3.10.2 64-bit",
   "language": "python",
   "name": "python3"
  },
  "language_info": {
   "codemirror_mode": {
    "name": "ipython",
    "version": 3
   },
   "file_extension": ".py",
   "mimetype": "text/x-python",
   "name": "python",
   "nbconvert_exporter": "python",
   "pygments_lexer": "ipython3",
   "version": "3.10.2"
  },
  "orig_nbformat": 4
 },
 "nbformat": 4,
 "nbformat_minor": 2
}
