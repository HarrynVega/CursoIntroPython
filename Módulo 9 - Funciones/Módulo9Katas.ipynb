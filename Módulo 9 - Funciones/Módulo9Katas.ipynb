{
 "cells": [
  {
   "cell_type": "markdown",
   "metadata": {},
   "source": [
    "## Ejercicio: Uso de funciones en Python\n",
    "### Ejercicio 1: Trabajar con argumentos en funciones\n",
    "En este ejercicio, construirás un informe de combustible que requiere información de varias ubicaciones de combustible en todo el cohete.\n",
    "Comienza por crear una función que necesite tres lecturas de combustible y devuelva un informe:"
   ]
  },
  {
   "cell_type": "code",
   "execution_count": 2,
   "metadata": {},
   "outputs": [],
   "source": [
    "def fuelReport(mainTank, secondaryTank, thirdTank):\n",
    "    return print(f\"\"\"Fuel in the main tank: {mainTank}%\n",
    "    Fuel in the secondary tank: {secondaryTank}%\n",
    "    Fuel in the third tank: {thirdTank}%\n",
    "    Total fuel average: {average(mainTank, secondaryTank, thirdTank)}%\"\"\")"
   ]
  },
  {
   "cell_type": "markdown",
   "metadata": {},
   "source": [
    "Ahora que hemos definido la función de informes, vamos a comprobarlo. Para esta misión, los tanques no están llenos:"
   ]
  },
  {
   "cell_type": "code",
   "execution_count": 6,
   "metadata": {},
   "outputs": [
    {
     "name": "stdout",
     "output_type": "stream",
     "text": [
      "Fuel in the main tank: 70%\n",
      "    Fuel in the secondary tank: 50%\n",
      "    Fuel in the third tank: 85%\n",
      "    Total fuel average: 68.33333333333333%\n"
     ]
    }
   ],
   "source": [
    "fuelReport(70, 50, 85)"
   ]
  },
  {
   "cell_type": "markdown",
   "metadata": {},
   "source": [
    "En lugar de simplemente crear el informe, la función también está calculando el promedio. Mejora la legibilidad extrayendo el cálculo promedio de la función en una nueva función para que el promedio se pueda hacer de forma independiente:"
   ]
  },
  {
   "cell_type": "code",
   "execution_count": 5,
   "metadata": {},
   "outputs": [],
   "source": [
    "def average(mainTank, secondaryTank, thirdTank):\n",
    "    fuelAverage = (mainTank + secondaryTank + thirdTank)/3\n",
    "    return average"
   ]
  },
  {
   "cell_type": "markdown",
   "metadata": {},
   "source": [
    "## Ejercicio 2: Trabajo con argumentos de palabra clave\n",
    "### Ejercicio : Trabajar con argumentos de palabras clave en funciones\n",
    "En este ejercicio, construirás un informe de cohete que requiere varias piezas de información, como el tiempo hasta el destino, el combustible a la izquierda y el nombre del destino. Comienza por crear una función que creará un informe preciso de la misión:"
   ]
  },
  {
   "cell_type": "code",
   "execution_count": 1,
   "metadata": {},
   "outputs": [],
   "source": [
    "def misionReport(launchTime, flightTime, mainFuel, secondaryFuel, destination):\n",
    "    return print(f\"\"\"Mision Report\n",
    "    Destination: {destination}\n",
    "    Travel time: {launchTime + flightTime} minutes\n",
    "    Fuel in the rocket: {mainFuel+secondaryFuel}\"\"\")"
   ]
  },
  {
   "cell_type": "markdown",
   "metadata": {},
   "source": [
    "La función es problemática porque no se puede adaptar para minutos adicionales o tanques adicionales de combustible. Hazlo más flexible permitiendo cualquier número de pasos basados en el tiempo y cualquier número de tanques. En lugar de usar ``*args`` y ``**kwargs``, aprovecha el hecho de que puedes usar cualquier nombre que desees. Asegurate que la función sea más legible mediante el uso de nombres de variables que están asociados con las entradas, como ``*minutes`` y ``**fuel_reservoirs``:"
   ]
  },
  {
   "cell_type": "code",
   "execution_count": 15,
   "metadata": {},
   "outputs": [
    {
     "name": "stdout",
     "output_type": "stream",
     "text": [
      "Mision Report\n",
      "    Destination: Moon\n",
      "    Travel time: 65 minutes\n",
      "    Fuel in the rocket: 7000\n",
      "None\n"
     ]
    }
   ],
   "source": [
    "def misionReport(destination, *minutes, **fuel_reservoirs):\n",
    "    return print(f\"\"\"Mision Report\n",
    "    Destination: {destination}\n",
    "    Travel time: {sum(minutes)} minutes\n",
    "    Fuel in the rocket: {sum(fuel_reservoirs.values())}\"\"\")\n",
    "\n",
    "print(misionReport(\"Moon\",15,30,20, main=5000, external = 2000))"
   ]
  },
  {
   "cell_type": "markdown",
   "metadata": {},
   "source": [
    "Debido a que el combustible que queda en los tanques es específico de cada tanque, actualiza la función para usar el nombre de cada tanque en el informe"
   ]
  },
  {
   "cell_type": "code",
   "execution_count": 20,
   "metadata": {},
   "outputs": [
    {
     "name": "stdout",
     "output_type": "stream",
     "text": [
      "Mision Report\n",
      "    Destination: Moon\n",
      "    Travel time: 65 minutes\n",
      "    Fuel in the rocket: 7000\n",
      "    main tank = 5000 gallons left\n",
      "    external tank = 2000 gallons left\n",
      "\n"
     ]
    }
   ],
   "source": [
    "def misionReport(destination, *minutes, **fuel_reservoirs):\n",
    "    report = f\"\"\"Mision Report\n",
    "    Destination: {destination}\n",
    "    Travel time: {sum(minutes)} minutes\n",
    "    Fuel in the rocket: {sum(fuel_reservoirs.values())}\\n\"\"\"\n",
    "    for tank, gallon in fuel_reservoirs.items():\n",
    "        report += f\"    {tank} tank = {gallon} gallons left\\n\"\n",
    "    return report\n",
    "\n",
    "print(misionReport(\"Moon\",15,30,20, main = 5000, external = 2000))"
   ]
  }
 ],
 "metadata": {
  "interpreter": {
   "hash": "b069f978c5ce059f6869a2c5334aa6982e919d27e13fd902c7b006aa1c2cad85"
  },
  "kernelspec": {
   "display_name": "Python 3.10.2 64-bit",
   "language": "python",
   "name": "python3"
  },
  "language_info": {
   "codemirror_mode": {
    "name": "ipython",
    "version": 3
   },
   "file_extension": ".py",
   "mimetype": "text/x-python",
   "name": "python",
   "nbconvert_exporter": "python",
   "pygments_lexer": "ipython3",
   "version": "3.10.2"
  },
  "orig_nbformat": 4
 },
 "nbformat": 4,
 "nbformat_minor": 2
}
